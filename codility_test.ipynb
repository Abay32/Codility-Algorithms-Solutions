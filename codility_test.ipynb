{
 "cells": [
  {
   "cell_type": "code",
   "execution_count": null,
   "metadata": {},
   "outputs": [],
   "source": [
    "a = int(input('Enter the number: '))\n",
    "for i in range(2, int(pow(a, 0.5)) + 1):\n",
    "    if a%i == 0:\n",
    "        print('The number is not prime')\n",
    "        break\n",
    "    else:\n",
    "        print('The number is prime, hurra')"
   ]
  },
  {
   "cell_type": "code",
   "execution_count": null,
   "metadata": {},
   "outputs": [],
   "source": [
    "# Filter method in tuple \n",
    "my_tuple = (2, 4,56,7,12,16, 18, 24, 32, 36)\n",
    "\n",
    "# Find numbers that are multiple of 6\n",
    "\n",
    "my_num  = tuple(filter( lambda x: (x%6 == 0), my_tuple))\n",
    "\n",
    "my_num"
   ]
  },
  {
   "cell_type": "code",
   "execution_count": null,
   "metadata": {},
   "outputs": [],
   "source": [
    "# Sum of diagonal elements \n",
    "\n",
    "import numpy as np\n",
    "m = np.array([[1,2,3,4], [5, 6, 7, 8], [9,10,11,12], [13, 14,15, 16]])\n",
    "sum_diag = sum(m.diagonal())\n",
    "#Or \n",
    "sum_diag = m.diagonal().sum()\n",
    "sum_diag"
   ]
  },
  {
   "cell_type": "markdown",
   "metadata": {},
   "source": [
    "# The smallest positive integer \n",
    "\n",
    "Write a function:\n",
    "\n",
    "    class Solution {public int solution(int[] A); }\n",
    "\n",
    "that, given an array A of N integers, returns the smallest positive integer (greater than 0) that does not occur in A.\n",
    "\n",
    "For example, given A = [1, 3, 6, 4, 1, 2], the function should return 5.\n",
    "\n",
    "Given A = [1, 2, 3], the function should return 4.\n",
    "\n",
    "Given A = [−1, −3], the function should return 1.\n",
    "\n",
    "Write an efficient algorithm for the following assumptions:\n",
    "\n",
    "        N is an integer within the range [1..100,000];\n",
    "        each element of array A is an integer within the range [−1,000,000..1,000,000].\n",
    "\n"
   ]
  },
  {
   "cell_type": "code",
   "execution_count": null,
   "metadata": {},
   "outputs": [],
   "source": [
    "def solution(A):\n",
    "    # write your code in Python 3.6\n",
    "    A = set(A)\n",
    "    iter = 1\n",
    "    while iter in A:\n",
    "        # Continue\n",
    "        iter += 1\n",
    "    return iter\n"
   ]
  },
  {
   "cell_type": "code",
   "execution_count": null,
   "metadata": {},
   "outputs": [],
   "source": [
    "solution([-2,-3,4,5,7])"
   ]
  },
  {
   "cell_type": "markdown",
   "metadata": {},
   "source": [
    "# Binary Gap\n"
   ]
  },
  {
   "cell_type": "code",
   "execution_count": null,
   "metadata": {},
   "outputs": [],
   "source": [
    "def binary_gap(N):\n",
    "    N = bin(N)[2:]\n",
    "    b = 0\n",
    "    maxbg = 0\n",
    "    for i in N:\n",
    "        if int(i) == 0:\n",
    "            b+=1\n",
    "        elif int(i) == 1:\n",
    "            maxbg = max(b, maxbg)\n",
    "            b = 0\n",
    "    return maxbg"
   ]
  },
  {
   "cell_type": "markdown",
   "metadata": {},
   "source": [
    "# Print the Elements of a Linked List\n",
    "\n",
    "https://www.hackerrank.com/challenges/print-the-elements-of-a-linked-list/problem?isFullScreen=false"
   ]
  },
  {
   "cell_type": "code",
   "execution_count": null,
   "metadata": {},
   "outputs": [],
   "source": [
    "### !/bin/python3\n",
    "\n",
    "import math\n",
    "import os\n",
    "import random\n",
    "import re\n",
    "import sys\n",
    "\n",
    "class SinglyLinkedListNode:\n",
    "    def __init__(self, node_data):\n",
    "        self.data = node_data\n",
    "        self.next = None\n",
    "\n",
    "class SinglyLinkedList:\n",
    "    def __init__(self):\n",
    "        self.head = None\n",
    "        self.tail = None\n",
    "\n",
    "    def insert_node(self, node_data):\n",
    "        node = SinglyLinkedListNode(node_data)\n",
    "\n",
    "        if not self.head:\n",
    "            self.head = node\n",
    "        else:\n",
    "            self.tail.next = node\n",
    "\n",
    "\n",
    "        self.tail = node\n",
    "\n",
    "# Complete the printLinkedList function below.\n",
    "\n",
    "#\n",
    "# For your reference:\n",
    "#\n",
    "# SinglyLinkedListNode:\n",
    "#     int data\n",
    "#     SinglyLinkedListNode next\n",
    "#\n",
    "#\n",
    "def printLinkedList(head):\n",
    "    if head:\n",
    "        print(head.data)\n",
    "        printLinkedList(head.next)\n",
    "        \n",
    "        \n",
    "\n",
    "if __name__ == '__main__':\n",
    "    llist_count = int(input())\n",
    "\n",
    "    llist = SinglyLinkedList()\n",
    "\n",
    "    for _ in range(llist_count):\n",
    "        llist_item = int(input())\n",
    "        llist.insert_node(llist_item)\n",
    "\n",
    "    printLinkedList(llist.head)"
   ]
  },
  {
   "cell_type": "markdown",
   "metadata": {},
   "source": [
    "# Insert a Node at the Tail of a Linked List\n",
    "\n",
    "https://www.hackerrank.com/challenges/insert-a-node-at-the-tail-of-a-linked-list/problem?isFullScreen=false&h_r=next-challenge&h_v=zen"
   ]
  },
  {
   "cell_type": "code",
   "execution_count": null,
   "metadata": {},
   "outputs": [],
   "source": [
    "#!/bin/python3\n",
    "\n",
    "import math\n",
    "import os\n",
    "import random\n",
    "import re\n",
    "import sys\n",
    "\n",
    "class SinglyLinkedListNode:\n",
    "    def __init__(self, node_data):\n",
    "        self.data = node_data\n",
    "        self.next = None\n",
    "\n",
    "class SinglyLinkedList:\n",
    "    def __init__(self):\n",
    "        self.head = None\n",
    "\n",
    "def print_singly_linked_list(node, sep, fptr):\n",
    "    while node:\n",
    "        fptr.write(str(node.data))\n",
    "\n",
    "        node = node.next\n",
    "\n",
    "        if node:\n",
    "            fptr.write(sep)\n",
    "\n",
    "# Complete the insertNodeAtTail function below.\n",
    "\n",
    "#\n",
    "# For your reference:\n",
    "#\n",
    "# SinglyLinkedListNode:\n",
    "#     int data\n",
    "#     SinglyLinkedListNode next\n",
    "#\n",
    "#\n",
    "def insertNodeAtTail(head, data):\n",
    "    if head == None:\n",
    "        head = SinglyLinkedListNode(data)\n",
    "        head.data = data\n",
    "    else:\n",
    "        new_node = SinglyLinkedListNode(data)\n",
    "        new_node.data = data\n",
    "        curr = head\n",
    "        while curr.next != None:\n",
    "            curr = curr.next\n",
    "        curr.next = new_node\n",
    "    return head\n",
    "\n",
    "if __name__ == '__main__':\n",
    "    fptr = open(os.environ['OUTPUT_PATH'], 'w')\n",
    "\n",
    "    llist_count = int(input())\n",
    "\n",
    "    llist = SinglyLinkedList()\n",
    "\n",
    "    for i in range(llist_count):\n",
    "        llist_item = int(input())\n",
    "        llist_head = insertNodeAtTail(llist.head, llist_item)\n",
    "        llist.head = llist_head\n",
    "\n",
    "    print_singly_linked_list(llist.head, '\\n', fptr)\n",
    "    fptr.write('\\n')\n",
    "\n",
    "    fptr.close()\n"
   ]
  },
  {
   "cell_type": "markdown",
   "metadata": {},
   "source": [
    "# Cyclic Array rotation\n"
   ]
  },
  {
   "cell_type": "code",
   "execution_count": null,
   "metadata": {},
   "outputs": [],
   "source": [
    "def cyclicrotation(A, k):\n",
    "    n = len(A)\n",
    "    B = [0]*n\n",
    "    for i in range(0, n):\n",
    "        B[(i+k)%n] = A[i]\n",
    "    return B"
   ]
  },
  {
   "cell_type": "code",
   "execution_count": null,
   "metadata": {},
   "outputs": [],
   "source": [
    "a = [3,8,9,7,6]\n",
    "k=4\n",
    "cyclicrotation(a,k)"
   ]
  },
  {
   "cell_type": "markdown",
   "metadata": {},
   "source": [
    "# Odd Occurrence \n"
   ]
  },
  {
   "cell_type": "code",
   "execution_count": null,
   "metadata": {},
   "outputs": [],
   "source": [
    "def oddoccurence(A):\n",
    "    sorted_A = sorted(A)\n",
    "    n = len(A)\n",
    "    for k in range(0,n-1, 2):\n",
    "        if sorted_A[k] != sorted_A[k+1]:\n",
    "            return sorted_A[k]\n",
    "            "
   ]
  },
  {
   "cell_type": "code",
   "execution_count": null,
   "metadata": {},
   "outputs": [],
   "source": [
    "A = [9, 3,9,3,9,7,9]\n",
    "oddoccurence(A)"
   ]
  },
  {
   "cell_type": "markdown",
   "metadata": {},
   "source": [
    "# Max Counter \n"
   ]
  },
  {
   "cell_type": "code",
   "execution_count": null,
   "metadata": {},
   "outputs": [],
   "source": [
    "def maxcounter(A, n):\n",
    "    b = 0\n",
    "    max_c = 0\n",
    "    \n",
    "    Nl = [0]*n\n",
    "    for k in range(0, len(A)):\n",
    "        if A[k] > n:\n",
    "            b = max_c\n",
    "        else:\n",
    "            Nl[A[k]-1] = max(b, Nl[A[k]-1]) + 1\n",
    "            max_c = max(max_c, Nl[A[k]-1])\n",
    "            \n",
    "            \n",
    "    for j in range(0, len(Nl)):\n",
    "        if Nl[j] < b:\n",
    "            Nl[j] = b\n",
    "            \n",
    "         \n",
    "    return Nl"
   ]
  },
  {
   "cell_type": "code",
   "execution_count": null,
   "metadata": {},
   "outputs": [],
   "source": [
    "a = [3,4,4,6,1,4,4]\n",
    "n = 5\n",
    "maxcounter(a,n)"
   ]
  },
  {
   "cell_type": "code",
   "execution_count": null,
   "metadata": {},
   "outputs": [],
   "source": [
    "def maxcounter2(A, n):\n",
    "    cnt = {}\n",
    "    for i in A:\n",
    "        if i <= n:\n",
    "            if i in cnt:\n",
    "                cnt[i] += 1\n",
    "            else:\n",
    "                cnt[i] = 1\n",
    "        else:\n",
    "            b = max(cnt.values())\n",
    "    for i in cnt.keys():\n",
    "        if cnt[i] < b:\n",
    "            cnt[i] = b\n",
    "    return  cnt\n",
    "            "
   ]
  },
  {
   "cell_type": "code",
   "execution_count": null,
   "metadata": {},
   "outputs": [],
   "source": [
    "a = [3,4,4,6,1,4,4]\n",
    "n = 5\n",
    "maxcounter2(a,n)"
   ]
  },
  {
   "cell_type": "markdown",
   "metadata": {},
   "source": [
    "# Minimum average slice \n",
    "\n",
    "Slices of 4 or more numbers always contains a smaller slice with lower average \n",
    "\n",
    "Only slices of 2 and 3 elements need to be tested in our algorithm\n",
    "\n",
    "- The goal is to find the starting position of a slice whose average is minimal"
   ]
  },
  {
   "cell_type": "code",
   "execution_count": null,
   "metadata": {},
   "outputs": [],
   "source": [
    "def minimumavegslice(A):\n",
    "    mn = max(A)*2\n",
    "    mi = 0\n",
    "    n  = len(A)\n",
    "    \n",
    "    for i in range(0, n-2):\n",
    "        v1 = (A[i] + A[i+1] + A[i+2])/3\n",
    "        v2 = (A[i] + A[i+1])/2\n",
    "        \n",
    "        if mn > v1 or mn > v2:\n",
    "            mn = min(v1,v2)\n",
    "            mi = i\n",
    "        \n",
    "    if mn > (A[-1] + A[-2])/2:\n",
    "        mi = n-2\n",
    "    \n",
    "    return mi"
   ]
  },
  {
   "cell_type": "code",
   "execution_count": null,
   "metadata": {},
   "outputs": [],
   "source": [
    "a = [4,2,2,5,1,5,6]\n",
    "minimumavegslice(a)"
   ]
  },
  {
   "cell_type": "markdown",
   "metadata": {},
   "source": [
    "# Dominator\n",
    "\n",
    "The number of occurence of an element should greater than half of the length of the list."
   ]
  },
  {
   "cell_type": "code",
   "execution_count": null,
   "metadata": {},
   "outputs": [],
   "source": [
    "def dominator(A):\n",
    "    \n",
    "    # Edge cases \n",
    "    n = len(A)\n",
    "    if n == 0:\n",
    "        return -1\n",
    "    elif n == 1:\n",
    "        return 0\n",
    "    B = A.copy()\n",
    "    B.sort()\n",
    "    c = 1 \n",
    "    for i in range(1, n):\n",
    "        if B[i-1] != B[i]:\n",
    "            c = 1\n",
    "        else:\n",
    "            c += 1\n",
    "        if c > int(n/2):\n",
    "            return A.index(B[i])\n",
    "    return -1\n",
    "            "
   ]
  },
  {
   "cell_type": "code",
   "execution_count": null,
   "metadata": {},
   "outputs": [],
   "source": [
    "a = [1,4,2,4,3,4,3,4,4]\n",
    "dominator(a)"
   ]
  },
  {
   "cell_type": "markdown",
   "metadata": {},
   "source": [
    "# MaxDoubleSlice\n",
    "\n"
   ]
  },
  {
   "cell_type": "code",
   "execution_count": null,
   "metadata": {},
   "outputs": [],
   "source": [
    "def maxdoubleslice(A):\n",
    "    \n",
    "    n = len(A)\n",
    "    LR = RL =[0]*n\n",
    "    s1, s2 = 0, 0\n",
    "    \n",
    "    j = n-1\n",
    "    for i in range(1, n-1):\n",
    "        s1 += A[i]        \n",
    "        if s1 < 0:\n",
    "            s1 = 0\n",
    "        LR[i] = s1\n",
    "        \n",
    "    #s = 0    \n",
    "    for i in range(n-1, 1, -1):\n",
    "        s2 += A[i]\n",
    "        if s2 < 0:\n",
    "            s2 = 0\n",
    "        RL[i] = s2\n",
    "        \n",
    "    m = 0\n",
    "    for i in range(0, n-2):\n",
    "        m  = max(m, LR[i] + RL[i+2])\n",
    "    \n",
    "    return m"
   ]
  },
  {
   "cell_type": "code",
   "execution_count": null,
   "metadata": {},
   "outputs": [],
   "source": [
    "a = [3,2,6,-1, 4,5,-1, 2]\n",
    "maxdoubleslice(a)"
   ]
  },
  {
   "cell_type": "markdown",
   "metadata": {},
   "source": [
    "# Max sub array slice"
   ]
  },
  {
   "cell_type": "code",
   "execution_count": null,
   "metadata": {},
   "outputs": [],
   "source": [
    "def maxsubarrayslice(A):\n",
    "    n = len(A)\n",
    "    S = [0]*n\n",
    "    s, mx = 0, 0\n",
    "    for i in range(0,n):\n",
    "        s += A[i]\n",
    "        if s < 0:\n",
    "            s = 0\n",
    "        S[i] = s\n",
    "        mx = max(mx, s)\n",
    "    return mx    \n",
    "        "
   ]
  },
  {
   "cell_type": "code",
   "execution_count": null,
   "metadata": {},
   "outputs": [],
   "source": [
    "a = [3,2,-6,4,0]\n",
    "maxsubarrayslice(a)"
   ]
  },
  {
   "cell_type": "markdown",
   "metadata": {},
   "source": [
    "# Anagrams \n",
    "\n",
    "Given two strings, check to see if they are anagrams, An anagram is when the two strings can be written the exact smae \n",
    "letters "
   ]
  },
  {
   "cell_type": "code",
   "execution_count": null,
   "metadata": {},
   "outputs": [],
   "source": [
    "def anagrams(s1, s2):\n",
    "    s1 = s1.replace(' ', '').lower()\n",
    "    s2 = s2.replace(' ', '').lower()\n",
    "    \n",
    "    return sorted(s1) == sorted(s2)\n",
    " "
   ]
  },
  {
   "cell_type": "code",
   "execution_count": null,
   "metadata": {},
   "outputs": [],
   "source": [
    "# Or \n",
    "\n",
    "def anagram2(s1, s2):\n",
    "    s1 = s1.replace(' ', '').lower()\n",
    "    s2 = s2.replace(' ', '').lower()\n",
    "    \n",
    "    count = {}\n",
    "    for letter in s1:\n",
    "        if letter in count:\n",
    "            count[letter] += 1\n",
    "        else:\n",
    "            count[letter] = 1\n",
    "    \n",
    "    for letter in s2:\n",
    "        if letter in count:\n",
    "            count[letter] -= 1\n",
    "        else:\n",
    "            count[letter]  = 1\n",
    "    \n",
    "    for item in count:\n",
    "        if count[item] != 0:\n",
    "            return 'Not an anagram'\n",
    "                \n",
    "    return 'Anagram'"
   ]
  },
  {
   "cell_type": "code",
   "execution_count": null,
   "metadata": {},
   "outputs": [],
   "source": [
    "s1 ='aa'# 'public relations'\n",
    "s2 = 'bb'# 'crap built on lies'\n",
    "\n",
    "anagram2(s1, s2)"
   ]
  },
  {
   "cell_type": "markdown",
   "metadata": {},
   "source": [
    "# Array pair sum \n",
    "\n",
    "Given an interger array, output all the unique pairs that sum up to a specifc value k."
   ]
  },
  {
   "cell_type": "code",
   "execution_count": null,
   "metadata": {},
   "outputs": [],
   "source": [
    "def pairsum(A, k):\n",
    "    if len(A) < 2:\n",
    "        return 'The array is too small'\n",
    "        \n",
    "    seen = set()\n",
    "    output = set()\n",
    "        \n",
    "    for num in A:\n",
    "        target = k - num\n",
    "         if target not in seen:\n",
    "            seen.add(num)\n",
    "         else:\n",
    "            output.add((num, target))\n",
    "            print('Out: ', output)\n",
    "    print('\\n'.join(map(str, list(output))))"
   ]
  },
  {
   "cell_type": "code",
   "execution_count": null,
   "metadata": {},
   "outputs": [],
   "source": [
    "a = [1,3,2,2]\n",
    "k = 4\n",
    "print(a)\n",
    "pairsum(a,k)"
   ]
  },
  {
   "cell_type": "markdown",
   "metadata": {},
   "source": [
    "# largest sum \n",
    "\n",
    "Take an array with positive and negative integers and find the maximum sum of that array \n",
    "\n",
    "- Initialize maximum and curunt sum of the array with the first element of the array:\n",
    "        \n",
    "- update the curruent sum as: curr_sum = max(curr_sum, max_sum) \n",
    "- update the maximum sum as: max_sum = max(max_sum, curr_sum\n",
    "\n"
   ]
  },
  {
   "cell_type": "code",
   "execution_count": null,
   "metadata": {},
   "outputs": [],
   "source": [
    "def maxsumarray(A):\n",
    "    if len(A) == 0:\n",
    "        return \"Too small array\"\n",
    "    \n",
    "    max_sum = curr_sum = A[0]\n",
    "    for i in A[1:]:\n",
    "        curr_sum = max(curr_sum + i, i)\n",
    "        max_sum = max(max_sum, curr_sum)\n",
    "        \n",
    "    return max_sum\n"
   ]
  },
  {
   "cell_type": "code",
   "execution_count": null,
   "metadata": {},
   "outputs": [],
   "source": [
    "a = [1, -3, 2, -2, 2]\n",
    "maxsumarray(a)"
   ]
  },
  {
   "cell_type": "markdown",
   "metadata": {},
   "source": [
    "# Peaks of an array\n",
    "\n",
    "We want to divide the array into blocks containing the same number of elements \n",
    "\n",
    "- Every block should contain at least one peak \n",
    "\n",
    "- The goal is to find the maximum number of blocks into which the array A can be divided \n",
    "\n",
    "-------------------------------"
   ]
  },
  {
   "cell_type": "code",
   "execution_count": null,
   "metadata": {},
   "outputs": [],
   "source": [
    "def peaksofarray(A):\n",
    "    P = []\n",
    "    for i in range(1,len(A)):\n",
    "        if (A[i] > A[i-1] and A[i] > A[i+1]):\n",
    "            P.append(i)\n",
    "    print(P)\n",
    "    if len(P) == 0:\n",
    "        return 0\n",
    "    for k in range(len(P), 0, -1):\n",
    "        if len(A) % k != 0:\n",
    "            continue\n",
    "        \n",
    "        lenslice = len(A)//k\n",
    "        slices = [0]*k\n",
    "        ss = 0\n",
    "        for ip in P:\n",
    "            slice_id = ip//lenslice\n",
    "            \n",
    "            print(ip, slice_id)\n",
    "            if slices[slice_id] == 0:\n",
    "                slices[slice_id] = 1\n",
    "                ss += 1\n",
    "        if ss == k:\n",
    "            return k\n",
    "        \n",
    "    return 0\n",
    "        "
   ]
  },
  {
   "cell_type": "code",
   "execution_count": null,
   "metadata": {},
   "outputs": [],
   "source": [
    "a = [1,2,3,4,3, 4,1,2,3,4,6,2]\n",
    "peaksofarray(a)"
   ]
  },
  {
   "cell_type": "markdown",
   "metadata": {},
   "source": [
    "# Flags on the peaks \n",
    "\n",
    "Set a flag to the appropraite peaks of the mountain \n",
    "\n",
    "Rules:\n",
    "- Choose how many flags you take with you\n",
    "    \n",
    "- Flags can only set on peaks \n",
    "    \n",
    "- If you take K flags, the distance between two flags should be greater than or equal to K\n",
    "    \n",
    "The goal is to set maximum number of flags on the peaks, according to the above rules \n"
   ]
  },
  {
   "cell_type": "code",
   "execution_count": null,
   "metadata": {},
   "outputs": [],
   "source": [
    "def flagsonpeaks(A):\n",
    "    if len(A) < 3:\n",
    "        return 0\n",
    "    \n",
    "    P = []\n",
    "    for i in range(1, len(A)-1):\n",
    "        if A[i] > A[i-1] and A[i] > A[i+1]:\n",
    "            P.append(i)\n",
    "            \n",
    "    if len(P) == 0:\n",
    "        return 0\n",
    "    elif len(P) == 1:\n",
    "        return 1\n",
    "    \n",
    "    c, m = 1, 0\n",
    "    for k in range(min(len(P), int(len(A)**0.5)+1), 0,-1):\n",
    "        lastF, c = 0, 1\n",
    "        for i in range(1, len(P)):\n",
    "            if (P[i] - P[lastF]) >= k and c < k:\n",
    "                c += 1\n",
    "                lastF = i\n",
    "        if c < m:\n",
    "            return m\n",
    "        elif m < c:\n",
    "            m = c\n",
    "    return m"
   ]
  },
  {
   "cell_type": "code",
   "execution_count": null,
   "metadata": {},
   "outputs": [],
   "source": [
    "a = [1,5,3,4,3,4,1,2,3,4,6,2,]\n",
    "flagsonpeaks(a)\n"
   ]
  },
  {
   "cell_type": "markdown",
   "metadata": {},
   "source": [
    "# Count Non-divisible \n",
    "\n",
    "Consider an array \n",
    "- A = [3 1 2 3 6]\n",
    "\n",
    "- 3, the non-divisors: 2 , 6\n",
    "- 1, the non-divisora are : 3, 2, 3, 6\n",
    "- 2, the non-divisors are: 3, 3, 6\n",
    "- 6, the non-divisors are: - -"
   ]
  },
  {
   "cell_type": "code",
   "execution_count": null,
   "metadata": {},
   "outputs": [],
   "source": [
    "def countnondivisible(A):\n",
    "    m = max(A)\n",
    "    R = []\n",
    "    NonDivUni = {}\n",
    "    counts = [0] * (m+1)\n",
    "    for a in A:\n",
    "        counts[a] += 1\n",
    "    \n",
    "    AA = set(A) # copy the A as a set\n",
    "    \n",
    "    for a in AA:\n",
    "        s = 0\n",
    "        for j in range(1, int(a**0.5) + 1):\n",
    "            if a%j == 0:\n",
    "                s += counts[j]\n",
    "                if int(a/j) != j:\n",
    "                    s += counts[int(a/j)]\n",
    "                    print(s)\n",
    "        NonDivUni[a] = len(A) - s\n",
    "        \n",
    "    for a in A:\n",
    "        R.append(NonDivUni[a])\n",
    "        \n",
    "    return R\n",
    "    "
   ]
  },
  {
   "cell_type": "code",
   "execution_count": null,
   "metadata": {},
   "outputs": [],
   "source": [
    "a = [3,1,2,3,6]\n",
    "countnondivisible(a)\n"
   ]
  },
  {
   "cell_type": "markdown",
   "metadata": {},
   "source": [
    " # Nombers of divisibles \n",
    "    \n",
    "Count the number of dividibles between two numbers (A and B) by a prespecified number K\n",
    "\n"
   ]
  },
  {
   "cell_type": "code",
   "execution_count": null,
   "metadata": {},
   "outputs": [],
   "source": [
    "def countdivisibles(A,B, K):\n",
    "    c = int(B/K) - int(A/K)\n",
    "    if A%K == 0:\n",
    "        c += 1\n",
    "        print(True)\n",
    "    return c"
   ]
  },
  {
   "cell_type": "code",
   "execution_count": null,
   "metadata": {},
   "outputs": [],
   "source": [
    "a,b, k = 0, 5, 2\n",
    "countdivisibles(a, b, k)"
   ]
  },
  {
   "cell_type": "markdown",
   "metadata": {},
   "source": [
    "# Frog jump\n",
    "\n",
    "Find the number of jumps neeeded to reach from one point to the other\n",
    "\n"
   ]
  },
  {
   "cell_type": "code",
   "execution_count": null,
   "metadata": {},
   "outputs": [],
   "source": [
    "def frogjumps(x, y, d):\n",
    "    D = y-x\n",
    "    counts = D//d # Floor division \n",
    "    \n",
    "    if x + counts*d > y:\n",
    "        return counts\n",
    "    else:\n",
    "        return counts + 1\n",
    "    "
   ]
  },
  {
   "cell_type": "markdown",
   "metadata": {},
   "source": [
    "# Frog river \n",
    "\n",
    "The goal is to find the earliest time to when the frog can cross the other side of the river\n",
    "\n"
   ]
  },
  {
   "cell_type": "code",
   "execution_count": null,
   "metadata": {},
   "outputs": [],
   "source": [
    "def frogriver(x, A):\n",
    "    s, B, n = 0, [0]*x, len(A)\n",
    "    for i in range(0, n):\n",
    "        if B[A[i]-1] == 0 and A[i] <= x:\n",
    "            s += 1\n",
    "            B[A[i]-1] = 1\n",
    "        if s == x:\n",
    "            return i\n",
    "        \n",
    "    return -1\n",
    "    "
   ]
  },
  {
   "cell_type": "markdown",
   "metadata": {},
   "source": [
    "# Frog jump \n",
    "\n",
    "The frog should jump according to Fibonacci number \n",
    "\n",
    "Find the smallest number of jumps to cross the river \n",
    "\n",
    "----------------------"
   ]
  },
  {
   "cell_type": "code",
   "execution_count": null,
   "metadata": {},
   "outputs": [],
   "source": [
    "def fibN(N):\n",
    "    fib = [0]*100\n",
    "    fib[1] = 1\n",
    "    for i in range(2, 100):\n",
    "        dib[i] = fib[i-1] + fib[i-2]\n",
    "        if fib[i] > N:\n",
    "            return fib[2:i]\n",
    "        \n",
    "def frogjumpsfibN(A):\n",
    "    A.append(1)\n",
    "    fib = fibN(len(A))\n",
    "    \n",
    "    reachsteps = [0] * len(A)\n",
    "    \n",
    "    \n",
    "    for j in fib:\n",
    "        if A[j-1] == 1:\n",
    "            reachsteps[j-1] = 1\n",
    "    \n",
    "    # Search leafs with more than one step \n",
    "    for i in range(len(A)):\n",
    "        if A[i] == 0 or reachsteps[i] > 0:\n",
    "            continue\n",
    "        \n",
    "        min_i = -1\n",
    "        min_val = 1000000\n",
    "        for j in fib:\n",
    "            prev_ind = i - j\n",
    "            if prev_ind < 0:\n",
    "                break\n",
    "            if reachsteps[prev_ind] > 0 and min_val > reachsteps[prev_ind]:\n",
    "                min_val = reachsteps[prev_ind]\n",
    "                min_i = prev_ind\n",
    "        if min_i != -1:\n",
    "            reachsteps[i] = min_val + 1\n",
    "    if reachsteps[len(A)-1] > 0:\n",
    "        return reachsteps[len(A)-1] \n",
    "    else:\n",
    "        return -1\n",
    "    \n",
    "        "
   ]
  },
  {
   "cell_type": "code",
   "execution_count": null,
   "metadata": {},
   "outputs": [],
   "source": []
  },
  {
   "cell_type": "code",
   "execution_count": null,
   "metadata": {},
   "outputs": [],
   "source": [
    "# Tape equilibrium \n",
    "\n",
    "def tapeequilibrium(A):\n",
    "    tot = sum(A)\n",
    "    sl = 0\n",
    "    min_dif = 2000\n",
    "    for i in range(0, len(A)-1):\n",
    "        sl += A[i]\n",
    "        diff = abs(2*sl - tot)\n",
    "        min_dif = min(min_dif, diff)\n",
    "    return min_dif\n",
    "        "
   ]
  },
  {
   "cell_type": "markdown",
   "metadata": {},
   "source": [
    "# Permutation array\n",
    "\n",
    "An array is said to be permutation if the sequence containing each element from 1 to N once (uniquely ...)"
   ]
  },
  {
   "cell_type": "code",
   "execution_count": null,
   "metadata": {},
   "outputs": [],
   "source": [
    "def permutation(A):\n",
    "    A.sort()\n",
    "\n",
    "    for i in range(0, len(A)):\n",
    "        if (i+1) != A[i]:\n",
    "            return False\n",
    "    return True"
   ]
  },
  {
   "cell_type": "markdown",
   "metadata": {},
   "source": [
    "# Tree traversals\n",
    "\n",
    "- Inorder traversal\n",
    "- Preorder traversal \n",
    "- Postorder traversal \n",
    "---------------------\n"
   ]
  },
  {
   "cell_type": "code",
   "execution_count": null,
   "metadata": {},
   "outputs": [],
   "source": [
    "# InOrder Traversal tree \n",
    "\n",
    "class Node:\n",
    "    # Initialize the nodes \n",
    "    def __init__(self, key):\n",
    "        self.left = None\n",
    "        self.right = None\n",
    "        self.val = key\n",
    "        \n",
    "    \n",
    "def printInorder(root):\n",
    "    if root:\n",
    "        # First recursion on the left child \n",
    "        \n",
    "        printInorder(root.left)\n",
    "        \n",
    "        #Print the data of node\n",
    "        print(root.val)\n",
    "        \n",
    "        # recursion on the right chiled \n",
    "        printInorder(root.right)\n",
    "        \n",
    "def printPreorder(node):\n",
    "    if node:\n",
    "        print(node.val)\n",
    "        \n",
    "        # Recurse on the left child \n",
    "        printPreorder(node.left)\n",
    "        \n",
    "        # Recurse on the right child\n",
    "        printPreorder(node.right)\n",
    "    \n",
    "def printPostOrder(node):\n",
    "    \n",
    "    if node:\n",
    "              \n",
    "        # Recurse on the left child \n",
    "        printPostOrder(node.left)\n",
    "        \n",
    "        \n",
    "        # Recurse on the right child \n",
    "        printPostOrder(node.right)\n",
    "        \n",
    "        # print the value of the node\n",
    "        print(node.val)"
   ]
  },
  {
   "cell_type": "code",
   "execution_count": null,
   "metadata": {},
   "outputs": [],
   "source": [
    "root = Node(1)\n",
    "root.left = Node(2)\n",
    "root.right = Node(3)\n",
    "root.left.left = Node(4)\n",
    "root.left.right = Node(5)\n",
    "\n",
    "print(\"InOrder traversal of binary tree is: \" )\n",
    "printInorder(root)\n",
    "\n",
    "print(\"PostOrder traversal of binary tree is: \" )\n",
    "printPostOrder(root)"
   ]
  },
  {
   "cell_type": "markdown",
   "metadata": {},
   "source": [
    "# Passing Cars\n",
    "\n",
    "Find the total number of crossing \n",
    "\n",
    "- A  --[0 1 0 1 1]\n",
    "- sE - [1 1 2 2 2] -- Two cars are going to East \n",
    "- s  - [1 2 2 3 5]"
   ]
  },
  {
   "cell_type": "code",
   "execution_count": null,
   "metadata": {},
   "outputs": [],
   "source": [
    "def PassingCars(A):\n",
    "    sE, s = 0, 0\n",
    "    \n",
    "    for i in A: #range(0, len(A)):\n",
    "        if i == 0: # W --> E\n",
    "            sE += 1\n",
    "        if i == 1:\n",
    "            s += sE\n",
    "    # Constraint \n",
    "    \n",
    "    if s > 1000000000:\n",
    "        return -1\n",
    "    else:\n",
    "        return s\n",
    "            \n",
    "        "
   ]
  },
  {
   "cell_type": "code",
   "execution_count": null,
   "metadata": {},
   "outputs": [],
   "source": [
    "A = [0, 1, 0, 1, 1]\n",
    "PassingCars(A)"
   ]
  },
  {
   "cell_type": "markdown",
   "metadata": {},
   "source": [
    "# Distinct array values \n",
    "\n",
    "Find distinct elements in the array \n",
    "\n",
    "---------------------"
   ]
  },
  {
   "cell_type": "code",
   "execution_count": null,
   "metadata": {},
   "outputs": [],
   "source": [
    "def DistinctArray(A):\n",
    "    A.sort()\n",
    "    counter = 1\n",
    "    for i in range(0, len(A)-1):\n",
    "        \n",
    "        # check redundent elements \n",
    "        if A[i] != A[i+1]:\n",
    "            counter += 1\n",
    "    return counter\n",
    "            \n",
    "            \n",
    "        \n",
    "    "
   ]
  },
  {
   "cell_type": "code",
   "execution_count": null,
   "metadata": {},
   "outputs": [],
   "source": [
    "a = [2, 3,4,1,2,3, 5, 4]\n",
    "a.sort()\n",
    "a\n",
    "DistinctArray(a)"
   ]
  },
  {
   "cell_type": "markdown",
   "metadata": {},
   "source": [
    "# Maximum products of three numbers in an array \n",
    "\n",
    "Find the maximum products of three numbers in an array \n",
    "\n",
    "---------------"
   ]
  },
  {
   "cell_type": "code",
   "execution_count": null,
   "metadata": {},
   "outputs": [],
   "source": [
    "def MaxThreeProduct(A):\n",
    "    if len(A)<3:\n",
    "        return 'The array size is too small'\n",
    "    \n",
    "    A.sort()\n",
    "    \n",
    "    loweTarget = A[-1]*A[0]*A[1]\n",
    "    upperTarget = A[-1]*A[-2]*A[-3]\n",
    "    \n",
    "    return max(loweTarget, upperTarget)"
   ]
  },
  {
   "cell_type": "code",
   "execution_count": null,
   "metadata": {},
   "outputs": [],
   "source": [
    "a = [-3, 1, 2,-2, -5, 6]\n",
    "MaxThreeProduct(a)"
   ]
  },
  {
   "cell_type": "markdown",
   "metadata": {},
   "source": [
    "# Triangle Triplate \n",
    "\n",
    "Find three numbers in the array that satisfy a triangle triplate condition \n",
    " - A[i+2] + A[i+1] > A[i]\n",
    " - A[i+2] + A[i] > A[i]\n",
    " - A[i+1] + A[i] > A[i+2]\n",
    " \n",
    " --------------------------------------\n",
    " "
   ]
  },
  {
   "cell_type": "code",
   "execution_count": null,
   "metadata": {},
   "outputs": [],
   "source": [
    "def TriangleTriplate(A):\n",
    "    if len(A) < 3: \n",
    "        return 0\n",
    "    \n",
    "    for i in range(0, len(A)-2):\n",
    "        if A[i] + A[i+1] > A[i+2]:\n",
    "            return 1\n",
    "    \n",
    "    return 0"
   ]
  },
  {
   "cell_type": "code",
   "execution_count": null,
   "metadata": {},
   "outputs": [],
   "source": [
    "a = [1, 20, 40,  90, 190]\n",
    "TriangleTriplate(a)"
   ]
  },
  {
   "cell_type": "markdown",
   "metadata": {},
   "source": [
    "# Nested brackets \n",
    "\n",
    "Check the brackets are closed properly \n",
    "\n",
    "---------------------------------"
   ]
  },
  {
   "cell_type": "code",
   "execution_count": null,
   "metadata": {},
   "outputs": [],
   "source": [
    "def nestedbracket(A):\n",
    "    \n",
    "    if len(A) == 0:\n",
    "        return 0\n",
    "    T = {\n",
    "        '[': 1, ']':-1, '(':2, ')':-2, '{':3, '}':-3\n",
    "        }\n",
    "    V = []\n",
    "    for i in range(0, len(A)):\n",
    "        \n",
    "        if (i == 0 and T[A[i]] < 0) or (T[A[i]] < 0 and len(V) == 0) or (T[A[i]] < 0 and T[A[i]] != -V[-1]):\n",
    "            return 0\n",
    "        elif T[A[i]] < 0:\n",
    "            V.pop()\n",
    "        else:\n",
    "            V.append(T[A[i]])\n",
    "            \n",
    "    if len(V) == 0:\n",
    "        return 1\n",
    "    else: \n",
    "        return 0\n",
    "        \n",
    "        \n",
    "        "
   ]
  },
  {
   "cell_type": "code",
   "execution_count": null,
   "metadata": {},
   "outputs": [],
   "source": [
    "a= ['(', '[', '{', '}', '{', '}', ']', '(']\n",
    "nestedbracket(a)"
   ]
  },
  {
   "cell_type": "markdown",
   "metadata": {},
   "source": [
    "# Nesting brackets \n",
    "\n",
    "-- Continued \n",
    " \n",
    "------------------------------------"
   ]
  },
  {
   "cell_type": "code",
   "execution_count": null,
   "metadata": {},
   "outputs": [],
   "source": [
    "def nestedbracket2(A):\n",
    "    \n",
    "    if len(A) == 0:\n",
    "        return 0\n",
    "    c = 0\n",
    "    for i in range(0, len(A)):\n",
    "        if A[i] == '(':\n",
    "            c += 1\n",
    "        else:\n",
    "            c -= 1        \n",
    "        if c < 0:\n",
    "            return 0\n",
    "            \n",
    "    if c != 0:\n",
    "        return 0\n",
    "    else:\n",
    "        return 1       "
   ]
  },
  {
   "cell_type": "code",
   "execution_count": null,
   "metadata": {},
   "outputs": [],
   "source": [
    "a = [')', '(', '(']\n",
    "nestedbracket2(a)"
   ]
  },
  {
   "cell_type": "markdown",
   "metadata": {},
   "source": [
    "# Fish problem \n",
    "\n",
    "- Fishes move down stream and up stream\n",
    "   - The larger fish eats the smallest when they meet \n",
    "   \n",
    " - Find the total fishes remaining\n",
    "     "
   ]
  },
  {
   "cell_type": "code",
   "execution_count": null,
   "metadata": {},
   "outputs": [],
   "source": [
    "def fish(A, dF): # A -- size of the fish and dF the direction 1 is downstream and 0 upstream \n",
    "    dS = []\n",
    "    c = 0\n",
    "    \n",
    "    for i in range(0, len(dF)):\n",
    "        if dF[i] == 1:\n",
    "            dS.append(A[i])\n",
    "        else:\n",
    "            while (len(dS) != 0):\n",
    "                if dS[-1] < A[i]:\n",
    "                    dS.pop()\n",
    "                    c += 1\n",
    "                elif dS[-1] > A[i]:\n",
    "                    c += 1\n",
    "                    break\n",
    "    return len(A)-c    "
   ]
  },
  {
   "cell_type": "code",
   "execution_count": null,
   "metadata": {},
   "outputs": [],
   "source": [
    "A = [4,3,2,1,5]\n",
    "dF = [0,1,0,0,0]\n",
    "fish(A, dF)"
   ]
  },
  {
   "cell_type": "markdown",
   "metadata": {},
   "source": [
    "# Buiding a Wall\n",
    "\n",
    "Find the minimum number of stones to build a wall\n",
    "\n",
    "- The level should be increasing \n"
   ]
  },
  {
   "cell_type": "code",
   "execution_count": null,
   "metadata": {},
   "outputs": [],
   "source": [
    "def buildingwall(A):\n",
    "    lastB, c = 0,0\n",
    "    \n",
    "    S = []\n",
    "    \n",
    "    for i in range(0, len(A)):\n",
    "        if lastB < A[i]:\n",
    "            c += 1\n",
    "            lastB = A[i]\n",
    "            S.append(A[i])\n",
    "        elif lastB > A[i]:\n",
    "            while (len(S) > 0 and A[i] < S[-1]):\n",
    "                S.pop() \n",
    "            if len(S) == 0 or A[i] != S[-1]:                \n",
    "                c += 1\n",
    "                S.append(A[i])\n",
    "                lastB = A[i]\n",
    "    return c\n",
    "        \n",
    "    "
   ]
  },
  {
   "cell_type": "code",
   "execution_count": null,
   "metadata": {},
   "outputs": [],
   "source": [
    "a = [8,8,5,7,9,8,7,4]\n",
    "buildingwall(a)"
   ]
  },
  {
   "cell_type": "markdown",
   "metadata": {},
   "source": [
    "# PermMissingElement\n",
    "\n",
    "- Sort the array \n",
    "- Check the missing element"
   ]
  },
  {
   "cell_type": "code",
   "execution_count": null,
   "metadata": {},
   "outputs": [],
   "source": [
    "def permMissingElement(A):\n",
    "    A.sort()\n",
    "    \n",
    "    for i in range(0, len(A)):\n",
    "        if A[i] != i + 1:\n",
    "            return i + 1 # return the missing value \n",
    "    return (len(A) + 1)"
   ]
  },
  {
   "cell_type": "code",
   "execution_count": null,
   "metadata": {},
   "outputs": [],
   "source": [
    "a = [1,2,3,6]\n",
    "permMissingElement(a)"
   ]
  },
  {
   "cell_type": "markdown",
   "metadata": {},
   "source": [
    "# Tape Equilibrium \n",
    "\n",
    "Find the minimum absolute difference of sum of two (l and r) slices of the array\n",
    "\n",
    "Method (efficient):\n",
    "    - Calculate the total sum if the array\n",
    "    - Calculate the sum of the left slice \n",
    "    \n",
    "    "
   ]
  },
  {
   "cell_type": "code",
   "execution_count": null,
   "metadata": {},
   "outputs": [],
   "source": [
    "def TapeEquilibrium(A):\n",
    "    \n",
    "    if len(A) < 0:\n",
    "        return 0\n",
    "    \n",
    "    tot = sum(A)\n",
    "    sl, diff = 0, tot\n",
    "    for i in range(0, len(A)-1):\n",
    "        sl += A[i]\n",
    "        sr = tot - sl\n",
    "        diff = min(diff, abs(sr-sl))\n",
    "    return diff   "
   ]
  },
  {
   "cell_type": "code",
   "execution_count": null,
   "metadata": {},
   "outputs": [],
   "source": [
    "A = [1,2,3,4,5]\n",
    "TapeEquilibrium(A)"
   ]
  },
  {
   "cell_type": "markdown",
   "metadata": {},
   "source": [
    "# CountFactors \n",
    "\n",
    "Find the number of factors of a given number\n",
    "\n"
   ]
  },
  {
   "cell_type": "code",
   "execution_count": null,
   "metadata": {},
   "outputs": [],
   "source": [
    "def countfactors(N):\n",
    "    c = 0\n",
    "    for k in range(1, int(N**0.5)+1):\n",
    "        if N%k == 0:\n",
    "            c += 1\n",
    "    if N == int(N**0.5)*int(N**0.5):\n",
    "        return 2*c-1\n",
    "    else:\n",
    "        return 2*c"
   ]
  },
  {
   "cell_type": "code",
   "execution_count": null,
   "metadata": {},
   "outputs": [],
   "source": [
    "N = 24\n",
    "countfactors(N)"
   ]
  },
  {
   "cell_type": "code",
   "execution_count": null,
   "metadata": {},
   "outputs": [],
   "source": [
    "A = [-2, -1, 0, 1, 2, 3]\n",
    "\n",
    "A.index(0)\n",
    "A_ = A[0:2+1]\n",
    "A_\n"
   ]
  },
  {
   "cell_type": "markdown",
   "metadata": {},
   "source": [
    "his is a demo task.\n",
    "\n",
    "Write a function:\n",
    "\n",
    "    def solution(A)\n",
    "\n",
    "that, given an array A of N integers, returns the smallest positive integer (greater than 0) that does not occur in A.\n",
    "\n",
    "For example, given A = [1, 3, 6, 4, 1, 2], the function should return 5.\n",
    "\n",
    "Given A = [1, 2, 3], the function should return 4.\n",
    "\n",
    "Given A = [−1, −3], the function should return 1.\n",
    "\n",
    "Write an efficient algorithm for the following assumptions:\n",
    "\n",
    "        N is an integer within the range [1..100,000];\n",
    "        each element of array A is an integer within the range [−1,000,000..1,000,000].\n",
    "\n",
    "Copyright 2009–2021 by Codility Limited. All Rights Reserved. Unauthorized copying, publication or disclosure prohibited. "
   ]
  },
  {
   "cell_type": "code",
   "execution_count": null,
   "metadata": {},
   "outputs": [],
   "source": [
    "def MisingEnteger(A):\n",
    "    A. sort()\n",
    "    # First edge case\n",
    "    if A[-1] < 0:\n",
    "        return 1\n",
    "    \n",
    "    # Check if 1 is missing in the list: Second edge case \n",
    "    check = False\n",
    "    for i in A:\n",
    "        if i == 1:\n",
    "            check = True\n",
    "    \n",
    "    if check == False:\n",
    "        return 1\n",
    "    \n",
    "    for i in range(0, len(A)-1):\n",
    "        if A[i] > 1 and A[i+1] > A[i] + 1:\n",
    "            return A[i] + 1\n",
    "        \n",
    "    # Third edge case \n",
    "    return A[-1] + 1\n"
   ]
  },
  {
   "cell_type": "code",
   "execution_count": null,
   "metadata": {},
   "outputs": [],
   "source": [
    "a = [1,2,3,-2, ]\n",
    "MisingEnteger(a)"
   ]
  },
  {
   "cell_type": "markdown",
   "metadata": {},
   "source": [
    "# Rotation of arrays \n",
    "\n",
    "Chech if the two arrays are the rotation of one to the other. "
   ]
  },
  {
   "cell_type": "code",
   "execution_count": null,
   "metadata": {},
   "outputs": [],
   "source": [
    "def rotation(A, B):\n",
    "    if len(A) != len(B):\n",
    "        return False\n",
    "    \n",
    "    key_val = A[0]\n",
    "    key_ind = 0\n",
    "    \n",
    "    for i in range(len(B)):\n",
    "        if key_val == B[i]:\n",
    "            key_ind = i # update the key index\n",
    "            break # exit from the loop\n",
    "    if key_ind == 0:\n",
    "        return False\n",
    "    \n",
    "    for i in range(len(A)):\n",
    "        if B[(i+key_ind)%len(A)] != A[i]:\n",
    "            return False \n",
    "    return True"
   ]
  },
  {
   "cell_type": "code",
   "execution_count": null,
   "metadata": {},
   "outputs": [],
   "source": [
    "a = [1,2,3,4]\n",
    "b = [1,2,3,4]\n",
    "rotation(a,b)"
   ]
  },
  {
   "cell_type": "markdown",
   "metadata": {},
   "source": [
    "# Common Elements \n",
    "\n",
    "Find the common elements of A and B\n",
    "\n"
   ]
  },
  {
   "cell_type": "code",
   "execution_count": null,
   "metadata": {},
   "outputs": [],
   "source": [
    "def common_elem(A, B):\n",
    "    i, j = 0, 0\n",
    "    A.sort()\n",
    "    B.sort()\n",
    "    \n",
    "    com_elem = []\n",
    "    \n",
    "    while i < len(A) and j < len(B):\n",
    "        if A[i] == B[j]:\n",
    "            com_elem.append(A[i])\n",
    "            i += 1\n",
    "            j += 1\n",
    "        elif A[i] > B[j]:\n",
    "            j += 1\n",
    "        else:\n",
    "            i += 1\n",
    "    return com_elem\n",
    "\n",
    "        "
   ]
  },
  {
   "cell_type": "code",
   "execution_count": null,
   "metadata": {},
   "outputs": [],
   "source": [
    "a = [1,3,4,6,9]\n",
    "b = [1,2,4,5,9,10]\n",
    "common_elem(a,b)"
   ]
  },
  {
   "cell_type": "markdown",
   "metadata": {},
   "source": [
    "# Reverse a String \n",
    "\n",
    "Write a function that returns the reverse of the given string \n"
   ]
  },
  {
   "cell_type": "code",
   "execution_count": null,
   "metadata": {},
   "outputs": [],
   "source": [
    "def reverse_string(s):\n",
    "    #return ' '.join(reversed(s.split()))\n",
    "    sl = s.split(' ')\n",
    "    print(sl)\n",
    "    rev_s = []\n",
    "    for i in range(len(sl)-1, -1, -1):\n",
    "        rev_s.append(sl[i])\n",
    "        \n",
    "    return str(' '.join((rev_s)))"
   ]
  },
  {
   "cell_type": "code",
   "execution_count": null,
   "metadata": {},
   "outputs": [],
   "source": [
    "print(reverse_string('This is the best'))"
   ]
  },
  {
   "cell_type": "markdown",
   "metadata": {},
   "source": [
    "# Frequenty Occurance \n",
    "\n",
    "Write a function that returns the most frequent\n",
    "\n"
   ]
  },
  {
   "cell_type": "code",
   "execution_count": null,
   "metadata": {},
   "outputs": [],
   "source": [
    "def most_frequent(A):\n",
    "    \n",
    "    cnt = {}\n",
    "    max_cnt = 0\n",
    "    max_item = None\n",
    "    \n",
    "    for i in A:\n",
    "        if i in cnt:\n",
    "            cnt[i] += 1\n",
    "        else:\n",
    "            cnt[i] = 1\n",
    "        \n",
    "        if cnt[i] > max_cnt:\n",
    "            max_cnt = cnt[i]\n",
    "            max_item = i\n",
    "    print(cnt)\n",
    "    return (max_item, max_cnt)"
   ]
  },
  {
   "cell_type": "code",
   "execution_count": null,
   "metadata": {},
   "outputs": [],
   "source": [
    "a = [-1, 2, 3, 3, 3, 4,3,3,3]\n",
    " \n",
    "most_frequent(a)"
   ]
  },
  {
   "cell_type": "markdown",
   "metadata": {},
   "source": [
    "# Unique Character \n",
    "\n",
    "Extract all unique characters in the given string \n"
   ]
  },
  {
   "cell_type": "code",
   "execution_count": null,
   "metadata": {},
   "outputs": [],
   "source": [
    "def unique_character(s):\n",
    "    s = s.replace(' ', '')\n",
    "    uni_el = set()\n",
    "    \n",
    "    for i in s:\n",
    "        if i in uni_el:\n",
    "            uni_el.remove(i)\n",
    "        else:\n",
    "            uni_el.add(i)\n",
    "    return(uni_el)"
   ]
  },
  {
   "cell_type": "code",
   "execution_count": null,
   "metadata": {},
   "outputs": [],
   "source": [
    "a = 'abay kassa'\n",
    "unique_character(a)"
   ]
  },
  {
   "cell_type": "markdown",
   "metadata": {},
   "source": [
    "# Common Prime divisors \n",
    "\n",
    "- The goa is to check whether the sets of prime divisors of integers N and M are exacty the same \n",
    "\n",
    "- Function that returns the number of positions K for which the prime divisors of A[K] and B[K] are exacty the same \n",
    "\n",
    "----------------------------------------------------"
   ]
  },
  {
   "cell_type": "code",
   "execution_count": null,
   "metadata": {},
   "outputs": [],
   "source": [
    "def gcd(a, b):\n",
    "    if a%b == 0:\n",
    "        return b\n",
    "    else:\n",
    "        return gcd(b, a%b)\n",
    "    \n",
    "def commonprimedivisors(A, B):\n",
    "    n = len(A)\n",
    "    cnt = 0\n",
    "    for i in range(0, n):\n",
    "        a, b = A[i], B[i]\n",
    "        D = gcd(a, b)\n",
    "        while (gcd(a, D) != 1):\n",
    "            a/=gcd(a, D)\n",
    "        while (gcd(b, D) != 1):\n",
    "            b/= gcd(b, D)\n",
    "        if (a==1 and b==1):\n",
    "            cnt += 1\n",
    "    return cnt"
   ]
  },
  {
   "cell_type": "markdown",
   "metadata": {},
   "source": [
    "# Repeated String \n",
    "\n",
    "There is a string, $s$, of lowercase English letters that is repeated infinitely many times. Given an integer, $n$, find and print the number of letter a's in the first letters of the infinite string.\n",
    "\n",
    "\n",
    "https://www.hackerrank.com/challenges/repeated-string/problem\n",
    "\n",
    "----------------------------------------------------------------------------------"
   ]
  },
  {
   "cell_type": "code",
   "execution_count": null,
   "metadata": {},
   "outputs": [],
   "source": [
    "def repeatedString(s, n):\n",
    "    c = s.count('c')\n",
    "    div=n//len(s)\n",
    "    if n%len(s)==0:\n",
    "        c = c*div\n",
    "    else:\n",
    "        m = n%len(s)\n",
    "        c= c*div+s[:m].count('a')\n",
    "    return c"
   ]
  },
  {
   "cell_type": "code",
   "execution_count": null,
   "metadata": {},
   "outputs": [],
   "source": [
    "s = 'abc'\n",
    "n = 10\n",
    "\n",
    "repeatedString(s, n)"
   ]
  },
  {
   "cell_type": "markdown",
   "metadata": {},
   "source": [
    "# MInimum distance \n",
    "\n",
    "The distance between two array values is the number of indices between them. Given A, find the minimum distance between any pair of equal elements in the array. If no such value exists, return -1.\n",
    "\n",
    "https://www.hackerrank.com/challenges/minimum-distances/problem\n",
    "\n",
    "--------------------------------------------"
   ]
  },
  {
   "cell_type": "code",
   "execution_count": null,
   "metadata": {},
   "outputs": [],
   "source": [
    "def minimumDistances(a):\n",
    "    # Write your code here\n",
    "    \n",
    "    cnt = {}\n",
    "    d = []\n",
    "    for i in range(0, len(a)):\n",
    "        if a[i] in cnt:\n",
    "            d.append(abs(i - cnt[a[i]]))         \n",
    "            print(d)\n",
    "        else:\n",
    "            cnt[a[i]] = i    \n",
    "    if len(d) > 0:\n",
    "       return min(d)     \n",
    "    else: \n",
    "        return -1 \n",
    "    "
   ]
  },
  {
   "cell_type": "code",
   "execution_count": null,
   "metadata": {},
   "outputs": [],
   "source": [
    "import numpy as np\n",
    "a = np.array([[1, 1],[2, 2]])\n",
    "\n",
    "print(sum(a[:][:]))\n",
    "\n",
    "print(list(map(sum, a)))\n",
    "\n",
    "print(a*np.log(a))"
   ]
  },
  {
   "cell_type": "code",
   "execution_count": null,
   "metadata": {},
   "outputs": [],
   "source": [
    "array = [\n",
    "   [1, 2, 3],\n",
    "   [4, 5, 6],\n",
    "   [7, 8, 9]\n",
    "]\n",
    "# passing the sum, array to function\n",
    "result = list(map(sum, array))\n",
    "result2 = sum(array)\n",
    "result"
   ]
  },
  {
   "cell_type": "code",
   "execution_count": null,
   "metadata": {},
   "outputs": [],
   "source": [
    "a = np.array([[0, 0], [0, 1]])\n",
    "np.log(a)"
   ]
  },
  {
   "cell_type": "markdown",
   "metadata": {},
   "source": [
    "# Quartile\n",
    "\n",
    "Find the first, second and third quartile of the data "
   ]
  },
  {
   "cell_type": "code",
   "execution_count": null,
   "metadata": {},
   "outputs": [],
   "source": [
    "arr = [3, 7, 8, 5, 12, 14, 21, 15, 18, 14]\n",
    "n = int(len(arr)/2)\n",
    "arr.sort()\n",
    "print(arr)\n",
    "print(arr[:n])\n",
    "print(arr[n+1:])\n",
    "\n",
    "def quartiles(arr):\n",
    "    # Write your code here\n",
    "    arr.sort()\n",
    "    if len(arr)%2 != 0:\n",
    "        n = int(len(arr)//2)\n",
    "        median = arr[n]\n",
    "        l_arr = arr[:n]\n",
    "        u_arr = arr[n+1:]\n",
    "        if len(l_arr)%2 != 0:\n",
    "            n_l = int(len(l_arr)//2)\n",
    "            media_l = l_arr[n_l]\n",
    "            media_u = u_arr[n_l]\n",
    "        else:\n",
    "            n_l = int(len(l_arr)/2)\n",
    "            media_l = (l_arr[n_l] + l_arr[n_l-1])/2\n",
    "            media_u = (u_arr[n_l] + u_arr[n_l-1])/2\n",
    "    else:\n",
    "        n = int(len(arr)/2)\n",
    "        median = (arr[n] + arr[n-1])/2\n",
    "        l_arr = arr[:n]\n",
    "        print(l_arr)\n",
    "        u_arr = arr[n:]\n",
    "        if len(l_arr)%2 != 0:\n",
    "            n_l = int(len(l_arr)//2)\n",
    "            media_l = l_arr[n_l]\n",
    "            media_u = u_arr[n_l]\n",
    "        else:\n",
    "            n_l = int(len(l_arr)/2)\n",
    "            media_l = (l_arr[n_l] + l_arr[n_l-1])/2\n",
    "            media_u = (u_arr[n_l] + u_arr[n_l-1])/2\n",
    "    return [int(media_l), int(median), int(media_u)]\n",
    "quartiles(arr)\n",
    "\n",
    "print(arr-1)"
   ]
  },
  {
   "cell_type": "code",
   "execution_count": 1,
   "metadata": {},
   "outputs": [
    {
     "name": "stdout",
     "output_type": "stream",
     "text": [
      "['/home/abay/Desktop/csv_files/framp.csv', '/home/abay/Desktop/csv_files/throwsh.csv', '/home/abay/Desktop/csv_files/twerche.csv', '/home/abay/Desktop/csv_files/gnyned.csv', '/home/abay/Desktop/csv_files/gwoomed.csv', '/home/abay/Desktop/csv_files/plent.csv', '/home/abay/Desktop/csv_files/hoilled.csv', '/home/abay/Desktop/csv_files/veeme.csv']\n"
     ]
    },
    {
     "data": {
      "text/plain": [
       "[[            date        vol\n",
       "  0     2005-09-23  306208914\n",
       "  171   2006-05-31   28831088\n",
       "  341   2007-02-01   18388511\n",
       "  659   2008-05-14   24150048\n",
       "  843   2009-02-06   35246018\n",
       "  1170  2010-05-26   54335576\n",
       "  1490  2011-08-31   35866126\n",
       "  1788  2012-11-06   59381774\n",
       "  2018  2013-10-10   38320297\n",
       "  2139  2014-04-09   21251451\n",
       "  2550  2015-11-30   17545094\n",
       "  2692  2016-06-28   17390752\n",
       "  2854  2017-02-16   17621885\n",
       "  3253  2018-09-21   28281682\n",
       "  3324  2019-01-09    9451453,             date   close\n",
       "  4     2005-09-29  2.8489\n",
       "  157   2006-05-11  2.8489\n",
       "  523   2007-10-23  4.5976\n",
       "  572   2008-01-08  4.1227\n",
       "  963   2009-07-30  3.6434\n",
       "  1289  2010-11-12  3.2556\n",
       "  1452  2011-07-07  3.8671\n",
       "  1823  2012-12-28  4.4573\n",
       "  1973  2013-08-07  5.7230\n",
       "  2253  2014-09-23  4.7138\n",
       "  2514  2015-10-08  6.4497\n",
       "  2724  2016-08-11  5.4336\n",
       "  2985  2017-08-28  6.8750\n",
       "  3306  2018-12-07  7.0000\n",
       "  3334  2019-01-23  7.5100], [            date       vol\n",
       "  0     1997-07-10   7190075\n",
       "  144   1998-02-09   3968369\n",
       "  496   1999-07-07   6231927\n",
       "  627   2000-01-14   5259179\n",
       "  1064  2001-10-11   7681942\n",
       "  1124  2002-01-10   4323656\n",
       "  1531  2003-08-27   6453973\n",
       "  1833  2004-11-05  12269671\n",
       "  1907  2005-02-18   9256851\n",
       "  2145  2006-01-31  13121030\n",
       "  2621  2007-12-21   4762132\n",
       "  2818  2008-10-08   9739822\n",
       "  2877  2009-01-07   7718665\n",
       "  3221  2010-05-19   4731855\n",
       "  3602  2011-11-21   7672480\n",
       "  3638  2012-01-12   5346985\n",
       "  3996  2013-06-21   4851686\n",
       "  4195  2014-04-09   4868791\n",
       "  4383  2015-01-14   3939615\n",
       "  4843  2016-11-10   4233466\n",
       "  4885  2017-01-12   3183435\n",
       "  5309  2018-09-21   3796857\n",
       "  5380  2019-01-09    804877,             date     close\n",
       "  73    1997-10-22    8.4273\n",
       "  144   1998-02-09    5.4130\n",
       "  498   1999-07-09    9.8670\n",
       "  657   2000-02-25   11.4410\n",
       "  887   2001-01-29    8.7326\n",
       "  1132  2002-01-22    5.9593\n",
       "  1566  2003-10-15    9.1826\n",
       "  1815  2004-10-11   13.3590\n",
       "  2122  2005-12-29   23.4350\n",
       "  2213  2006-05-11   49.1240\n",
       "  2573  2007-10-15   66.2150\n",
       "  2664  2008-02-27   51.8610\n",
       "  3109  2009-12-04   66.2720\n",
       "  3379  2010-12-31  106.8400\n",
       "  3508  2011-07-07  127.6300\n",
       "  3875  2012-12-19  161.5100\n",
       "  3881  2013-01-03  160.6700\n",
       "  4290  2014-08-27  129.7100\n",
       "  4465  2015-05-13  123.1300\n",
       "  4862  2016-12-08   97.0870\n",
       "  4913  2017-02-21  134.3100\n",
       "  5136  2018-01-15  115.0000\n",
       "  5387  2019-01-18   92.4800], [            date      vol\n",
       "  1     1997-07-01  3240026\n",
       "  337   1998-11-03  1047549\n",
       "  510   1999-07-15  3829036\n",
       "  637   2000-01-18  1351917\n",
       "  889   2001-01-23   103433\n",
       "  1154  2002-02-13    90521\n",
       "  1390  2003-01-27    54890\n",
       "  1652  2004-02-11   314531\n",
       "  2013  2005-07-15  3087428\n",
       "  2330  2006-10-17  2107085\n",
       "  2387  2007-01-10  1777609\n",
       "  2857  2008-11-25  2620568\n",
       "  3097  2009-11-09  5736950\n",
       "  3134  2010-01-05  1684660\n",
       "  3451  2011-04-05  1520443\n",
       "  3750  2012-06-15   436408\n",
       "  4002  2013-06-21   970199\n",
       "  4188  2014-03-21   589648\n",
       "  4512  2015-07-10   430244\n",
       "  4653  2016-02-02   187133\n",
       "  5061  2017-09-15   582322\n",
       "  5315  2018-09-21   569514\n",
       "  5387  2019-01-10   107028,             date   close\n",
       "  81    1997-10-22  22.278\n",
       "  261   1998-07-20  32.673\n",
       "  509   1999-07-14  30.127\n",
       "  644   2000-01-27  31.785\n",
       "  1123  2001-12-31  27.157\n",
       "  1217  2002-05-17  32.037\n",
       "  1376  2003-01-07  31.740\n",
       "  1667  2004-03-03  30.127\n",
       "  2126  2005-12-27  34.029\n",
       "  2380  2006-12-29  46.075\n",
       "  2481  2007-05-28  72.991\n",
       "  2630  2008-01-02  54.885\n",
       "  3127  2009-12-22  44.524\n",
       "  3374  2010-12-15  60.278\n",
       "  3455  2011-04-11  63.969\n",
       "  3875  2012-12-11  69.092\n",
       "  4087  2013-10-21  93.089\n",
       "  4325  2014-10-07  97.740\n",
       "  4463  2015-04-30  87.593\n",
       "  4693  2016-03-31  75.097\n",
       "  5133  2017-12-29  77.526\n",
       "  5155  2018-02-01  80.953\n",
       "  5395  2019-01-22  70.900], [           date       vol\n",
       "  0    2017-07-27  26463407\n",
       "  337  2018-11-30  13974809\n",
       "  359  2019-01-08    782333,            date   close\n",
       "  35   2017-09-15  35.007\n",
       "  111  2018-01-08  33.081\n",
       "  355  2019-01-02  21.580], [            date      vol\n",
       "  0     2009-06-25  4169894\n",
       "  179   2010-03-09  1577806\n",
       "  439   2011-03-18   510597\n",
       "  858   2012-11-16   501326\n",
       "  1002  2013-06-21   301582\n",
       "  1379  2014-12-23   359617\n",
       "  1558  2015-09-14   688905\n",
       "  1689  2016-03-23   368830\n",
       "  2094  2017-11-02   263079\n",
       "  2322  2018-10-02   142918\n",
       "  2396  2019-01-23    35019,             date    close\n",
       "  77    2009-10-12   62.856\n",
       "  342   2010-10-28   92.381\n",
       "  438   2011-03-17  104.800\n",
       "  882   2012-12-20  119.170\n",
       "  1108  2013-11-21  123.820\n",
       "  1169  2014-02-24  114.060\n",
       "  1388  2015-01-13   94.100\n",
       "  1850  2016-11-14   71.424\n",
       "  1939  2017-03-21   82.567\n",
       "  2138  2018-01-09   70.700\n",
       "  2393  2019-01-18   56.500], [            date     vol\n",
       "  111   2004-10-29  681289\n",
       "  337   2005-10-07  268690\n",
       "  416   2006-01-31  285801\n",
       "  751   2007-06-18  229924\n",
       "  1054  2008-09-04  164968\n",
       "  1224  2009-05-13  257104\n",
       "  1422  2010-02-22  165316\n",
       "  1859  2011-11-30  189252\n",
       "  2071  2012-10-15   87597\n",
       "  2265  2013-07-31   86191\n",
       "  2538  2014-09-05  124624\n",
       "  2855  2015-12-10   82283\n",
       "  2908  2016-03-01  411227\n",
       "  3262  2017-07-28   64303\n",
       "  3476  2018-06-08   38814\n",
       "  3626  2019-01-16   22818,             date    close\n",
       "  115   2004-11-05   38.149\n",
       "  179   2005-02-04   40.177\n",
       "  631   2006-12-18   43.350\n",
       "  771   2007-07-16  147.160\n",
       "  931   2008-03-07  123.250\n",
       "  1383  2009-12-28   82.781\n",
       "  1389  2010-01-06   82.094\n",
       "  1738  2011-06-02   91.435\n",
       "  1952  2012-04-17  106.080\n",
       "  2350  2013-12-02  208.820\n",
       "  2616  2014-12-30  222.250\n",
       "  2701  2015-05-06  257.400\n",
       "  3019  2016-08-09  299.700\n",
       "  3221  2017-05-31  328.530\n",
       "  3373  2018-01-09  312.380\n",
       "  3631  2019-01-23  217.000], [            date       vol\n",
       "  0     1998-11-18  11251873\n",
       "  43    1999-01-21   6076014\n",
       "  493   2000-11-08  20275328\n",
       "  725   2001-10-11   8838297\n",
       "  872   2002-05-17  11420120\n",
       "  1194  2003-08-29  14271971\n",
       "  1349  2004-04-13  13512836\n",
       "  1778  2005-12-21  19321890\n",
       "  1991  2006-10-25  20104484\n",
       "  2048  2007-01-18  48282672\n",
       "  2488  2008-10-21  24485887\n",
       "  2616  2009-04-29  25906163\n",
       "  2899  2010-06-14  32060819\n",
       "  3154  2011-06-15  30848637\n",
       "  3492  2012-10-17  49111144\n",
       "  3570  2013-02-12  46010028\n",
       "  3985  2014-10-14  23583305\n",
       "  4280  2015-12-17  24893525\n",
       "  4319  2016-02-17  11408138\n",
       "  4569  2017-02-14  41522468\n",
       "  4970  2018-09-21  13507224\n",
       "  5051  2019-01-23   3794962,             date    close\n",
       "  25    1998-12-23   8.2768\n",
       "  163   1999-07-15  13.7030\n",
       "  320   2000-02-29  18.7090\n",
       "  531   2001-01-04  13.1900\n",
       "  784   2002-01-09   8.3506\n",
       "  1192  2003-08-27   7.8339\n",
       "  1533  2004-12-31   9.2572\n",
       "  1713  2005-09-19  12.2970\n",
       "  2028  2006-12-18  12.2050\n",
       "  2272  2007-12-07  13.0750\n",
       "  2434  2008-08-05  13.6030\n",
       "  2548  2009-01-21  11.7170\n",
       "  2980  2010-10-05  12.5810\n",
       "  3270  2011-11-30  13.5550\n",
       "  3448  2012-08-16  13.8180\n",
       "  3544  2013-01-07  10.3280\n",
       "  3968  2014-09-19  10.7110\n",
       "  4136  2015-05-27   9.4586\n",
       "  4347  2016-03-30   6.5482\n",
       "  4706  2017-09-01   6.1000\n",
       "  4802  2018-01-22   6.3600\n",
       "  5047  2019-01-17   5.5000], [            date     vol\n",
       "  0     2011-05-10  973320\n",
       "  224   2012-03-27  332852\n",
       "  510   2013-05-24  442705\n",
       "  664   2014-01-09  185840\n",
       "  1114  2015-10-23  245446\n",
       "  1164  2016-01-11  188318\n",
       "  1581  2017-09-06  386808\n",
       "  1790  2018-07-10  484683\n",
       "  1914  2019-01-10   67706,             date    close\n",
       "  142   2011-11-30   41.937\n",
       "  234   2012-04-12   49.180\n",
       "  634   2013-11-20   87.304\n",
       "  892   2014-12-03  113.410\n",
       "  1137  2015-11-26  184.060\n",
       "  1338  2016-09-16  245.480\n",
       "  1556  2017-08-01  340.560\n",
       "  1661  2018-01-03  259.330\n",
       "  1919  2019-01-17  182.200]]"
      ]
     },
     "execution_count": 1,
     "metadata": {},
     "output_type": "execute_result"
    }
   ],
   "source": [
    "import pandas as pd \n",
    "import glob\n",
    "import datetime as dt\n",
    "flowpath='/home/abay/Desktop/csv_files/'\n",
    "files = glob.glob(flowpath + \"*.csv\")\n",
    "print(files)\n",
    "App_files = []\n",
    "for file in files:\n",
    "    #if file == 'framp.csv':\n",
    "    df = pd.read_csv(file)\n",
    "    df['year'] = pd.to_datetime(df['date']).dt.year\n",
    "    ind1 = df.groupby('year')['vol'].idxmax()\n",
    "    df1 = df.iloc[ind1, :]\n",
    "    df1 = df1[['date', 'vol']]#.reset_index(drop=True, inplace=True)\n",
    "        \n",
    "    ind2 = df.groupby('year')['close'].idxmax() \n",
    "    df2 = df.iloc[ind2,:]#.reset_index(drop=True, inplace= True)\n",
    "    df2 = df2[['date', 'close']]\n",
    "      \n",
    "    App_files.append([df1, df2])\n",
    "\n",
    "App_files\n",
    "\n",
    " \n",
    "#df = pd.read_csv('/home/abay/Desktop/csv_files/framp.csv')\n",
    "\n",
    "#df['year'] = pd.to_datetime(df['date']).dt.year\n",
    "#ind = df.groupby('year')['vol'].idxmax()\n",
    "#df = df.iloc[ind, :]\n",
    "#df = df[['date', 'vol']]\n",
    "#df"
   ]
  },
  {
   "cell_type": "code",
   "execution_count": null,
   "metadata": {},
   "outputs": [],
   "source": [
    "df['date'] = pd.to_datetime(df['date'])\n",
    "df['year'] = df['date'].dt.year  \n",
    "\n",
    "k = []\n",
    "for i in range(2005, 2019):\n",
    "    k.append(np.mean(df[df.year==i]))\n",
    "k"
   ]
  },
  {
   "cell_type": "code",
   "execution_count": null,
   "metadata": {},
   "outputs": [],
   "source": [
    "x = np.array([1,2,3])\n",
    "w = np.array([5,6,7])\n",
    "\n",
    "x*w"
   ]
  },
  {
   "cell_type": "code",
   "execution_count": null,
   "metadata": {},
   "outputs": [],
   "source": [
    "a = 'abay'\n",
    "list(a)"
   ]
  },
  {
   "cell_type": "code",
   "execution_count": null,
   "metadata": {},
   "outputs": [],
   "source": [
    "a =  list([1,2,3])\n",
    "print(a)\n",
    "fre = list([3,2,1])\n",
    " \n",
    "\n",
    "s = []\n",
    "\n",
    "j = 0\n",
    "\n",
    "for i in range(0, len(a)):\n",
    "    s += [a[i]]*fre[i]\n",
    "    \n",
    "    \n",
    "    \n",
    "  \n",
    " \n",
    "    \n",
    "lis"
   ]
  },
  {
   "cell_type": "code",
   "execution_count": null,
   "metadata": {},
   "outputs": [],
   "source": [
    "from math import exp, factorial\n",
    "\n",
    "avg, x = 2.5, 5\n",
    "\n",
    "poison_dis = (avg**x*exp(-avg))/factorial(x)\n",
    "\n",
    "print(round(poison_dis, 1))"
   ]
  },
  {
   "cell_type": "code",
   "execution_count": null,
   "metadata": {},
   "outputs": [],
   "source": []
  },
  {
   "cell_type": "code",
   "execution_count": 32,
   "metadata": {},
   "outputs": [
    {
     "data": {
      "text/plain": [
       "80"
      ]
     },
     "execution_count": 32,
     "metadata": {},
     "output_type": "execute_result"
    }
   ],
   "source": [
    "a = [100, 100, -10, -20, -30]\n",
    "d = ['2020-01-01', '2020-02-01','2020-02-11','2020-02-05', '2020-02-08',]\n",
    "\n",
    "di = {'date': d, 'values':a}\n",
    "df =pd.DataFrame(di)\n",
    "df['month'] = pd.to_datetime(df['date']).dt.to_period('M')\n",
    "df = df[df['values'] < 0]\n",
    "df = df.groupby('month').agg({'date':'count', 'values':'sum'}).reset_index()#.to_frame(['cnt', 'total'])\n",
    "df = df[(df['date'] >= 3) & (df['values'] <= -100)]\n",
    "exd_month = df.shape[0]\n",
    "\n",
    "total = sum(a) - (12-exd_month)*5\n",
    "total"
   ]
  },
  {
   "cell_type": "markdown",
   "metadata": {},
   "source": [
    "# Travling photos arrangement \n",
    "\n",
    "John likes to travel. He has visted a lot of cities over many years. Whenever he visits a city, he takes a few photo and saves them on his computer. Each photo \n",
    "has a name with extension ('jpg', 'png', or 'jpeg') and there is a record of the name of the city where the photo was taken and date; for example \n",
    "'photo.jpg, WArsaw, 2013-09-05 14:08:15'.\n",
    "\n",
    "\n",
    "Note that, in some rare cases, photos from different locations may share the time and date, due to timezone differences.\n",
    "\n",
    "John notices that his way of filling photos on his computer has become a mess. He wants to reorganize the photos. First he decides to group the photos by city then, within each group, sort the photod by the time and final asign \n",
    "consequetive natural numbers, starting from 1. Afterwards he intend to rename all the photos. The new name of each photo should begin with the name of the city followed by the number already assigned to the photo. The number of evry photo in each group should have the same length \n",
    "(equal to the length of the largest number in this group); Thus john needs to add some leading zeros to the numbers. The new name of the photo should end with the extension, which should remain the same. "
   ]
  },
  {
   "cell_type": "code",
   "execution_count": 47,
   "metadata": {},
   "outputs": [
    {
     "data": {
      "text/plain": [
       "2      Warsaw01.png\n",
       "0      Warsaw02.jpg\n",
       "7      Warsaw03.jpg\n",
       "1       london1.png\n",
       "4        Paris1.jpg\n",
       "3        Paris2.jpg\n",
       "5       london2.jpg\n",
       "6        Paris3.png\n",
       "12     Warsaw04.png\n",
       "13     Warsaw05.png\n",
       "10     Warsaw06.jpg\n",
       "9      Warsaw07.jpg\n",
       "11     Warsaw08.jpg\n",
       "8      Warsaw09.png\n",
       "14     Warsaw10.jpg\n",
       "Name: new_name, dtype: object"
      ]
     },
     "execution_count": 47,
     "metadata": {},
     "output_type": "execute_result"
    }
   ],
   "source": [
    "# Travling\n",
    "import pandas as pd\n",
    "string = '''photo.jpg, Warsaw, 2013-09-05 14:08:15\n",
    "         jhon.png, london, 2015-06-20 15:13:22\n",
    "         myFriends.png, Warsaw, 2013-09-05 14:07:13\n",
    "        Eiffel.jpg, Paris, 2015-07-23 08:03:02\n",
    "        pisatower.jpg, Paris, 2015-07-22 23:59:59\n",
    "        BOB.jpg, london, 2015-08-05 00:02:03\n",
    "        notredame.png, Paris, 2015-09-01 12:00:00\n",
    "        me.jpg, Warsaw, 2013-09-06 15:40:22\n",
    "        a.png, Warsaw, 2016-02-13 13:33:50\n",
    "        b.jpg, Warsaw, 2016-01-02 15:12:22\n",
    "        c.jpg, Warsaw, 2016-01-02 14:34:30\n",
    "        d.jpg, Warsaw, 2016-01-02 15:15:01\n",
    "        e.png, Warsaw, 2016-01-02 09:49:09\n",
    "        f.png, Warsaw, 2016-01-02 10:55:32\n",
    "        g.jpg, Warsaw, 2016-02-29 22:13:11'''\n",
    "\n",
    "l = [x.split(',') for x in string.split('\\n')]\n",
    " \n",
    "   \n",
    "\n",
    "df = pd.DataFrame(l, columns =['photo', 'city', 'date'])\n",
    "df = df.sort_values('date')\n",
    "\n",
    "df['cnt'] = df.groupby('city')['photo'].transform('count')\n",
    "df['rank'] = df.groupby('city').cumcount()+1\n",
    "\n",
    "df['pre_zros'] = df.apply(lambda x: '0'*(len(str(x['cnt'])) -1)+str(x['rank']) if x['cnt'] > x['rank'] else str(x['rank']), axis = 1)\n",
    "df[['photo', 'extention']] = df['photo'].str.split('.', expand=True)\n",
    "\n",
    "df['new_name'] = df['city'].astype(str) + df['pre_zros'] + '.' + df['extention'].astype(str)\n",
    "\n",
    "result = df['new_name']\n",
    "result"
   ]
  },
  {
   "cell_type": "markdown",
   "metadata": {},
   "source": [
    "# Mutual information \n",
    "\n",
    "Mutual information quantifies the relation between two discrete randon variables. For a probability distribution p_ij (presented as a two-dimentional numpy array), mutual information is \n",
    "defied as:\n",
    "    \n",
    "    $$\\sum_{ij}p_{ij}log(p_{ij}) - \\sum_ip_ilog(p_i) - \\sum_jp_jlog(p_j)$$\n",
    "   \n",
    "where\n",
    "\n",
    "$p_i = \\sum_jp_{ij}$ and $p_j = \\sum_ip_{ij}$"
   ]
  },
  {
   "cell_type": "code",
   "execution_count": 59,
   "metadata": {},
   "outputs": [
    {
     "data": {
      "text/plain": [
       "array([[ 1,  2,  3,  4],\n",
       "       [ 1, -2,  3,  4],\n",
       "       [ 1,  2,  3,  4],\n",
       "       [ 1, -2,  3,  4]])"
      ]
     },
     "execution_count": 59,
     "metadata": {},
     "output_type": "execute_result"
    }
   ],
   "source": [
    "import numpy as np\n",
    "\n",
    "\n",
    "A = np.array([[1,2,3,4],[1,-2,3,4],[1,2,3,4], [1,-2,3,4]])\n",
    "A"
   ]
  },
  {
   "cell_type": "code",
   "execution_count": 68,
   "metadata": {},
   "outputs": [
    {
     "data": {
      "text/plain": [
       "-79.72547979777187"
      ]
     },
     "execution_count": 68,
     "metadata": {},
     "output_type": "execute_result"
    }
   ],
   "source": [
    "p_i, p_j = np.sum(A, axis=1), np.sum(A, axis=0)\n",
    "\n",
    "m = np.sum(p_i*np.log(p_i + 10**-6)) - np.sum(p_i*np.log(p_i+10**-6)) - np.sum(p_j*np.log(p_j+10**-6))\n",
    "m\n"
   ]
  },
  {
   "cell_type": "code",
   "execution_count": null,
   "metadata": {},
   "outputs": [],
   "source": []
  }
 ],
 "metadata": {
  "kernelspec": {
   "display_name": "Python 3",
   "language": "python",
   "name": "python3"
  },
  "language_info": {
   "codemirror_mode": {
    "name": "ipython",
    "version": 3
   },
   "file_extension": ".py",
   "mimetype": "text/x-python",
   "name": "python",
   "nbconvert_exporter": "python",
   "pygments_lexer": "ipython3",
   "version": "3.6.9"
  }
 },
 "nbformat": 4,
 "nbformat_minor": 2
}
